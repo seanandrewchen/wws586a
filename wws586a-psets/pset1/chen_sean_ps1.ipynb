{
 "cells": [
  {
   "cell_type": "markdown",
   "metadata": {
    "heading_collapsed": true
   },
   "source": [
    "# Machine Learning Problem Set 1\n",
    "\n",
    "**Sean Andrew Chen, MPA 2**\n",
    "\n",
    "**sachen@princeton.edu**"
   ]
  },
  {
   "cell_type": "markdown",
   "metadata": {
    "heading_collapsed": true
   },
   "source": [
    "# Setup Notebook"
   ]
  },
  {
   "cell_type": "code",
   "execution_count": 703,
   "metadata": {
    "hidden": true
   },
   "outputs": [],
   "source": [
    "from __future__ import print_function, division\n",
    "\n",
    "import urllib\n",
    "import os, shutil\n",
    "import zipfile\n",
    "\n",
    "import numpy as np\n",
    "import pandas as pd\n",
    "\n",
    "import statsmodels.api as sm\n",
    "#there's some sorta weird bug here and this is a brute force workaround\n",
    "from scipy import stats\n",
    "stats.chisqprob = lambda chisq, df: stats.chi2.sf(chisq, df)\n",
    "\n",
    "import matplotlib.pyplot as plt;"
   ]
  },
  {
   "cell_type": "markdown",
   "metadata": {
    "heading_collapsed": true
   },
   "source": [
    "# Download and Clean Data"
   ]
  },
  {
   "cell_type": "markdown",
   "metadata": {
    "heading_collapsed": true,
    "hidden": true
   },
   "source": [
    "## Download and Move Data"
   ]
  },
  {
   "cell_type": "code",
   "execution_count": 3,
   "metadata": {
    "hidden": true
   },
   "outputs": [],
   "source": [
    "url = \"https://www1.nyc.gov/assets/nypd/downloads/zip/analysis_and_planning/stop-question-frisk/sqf-2016-csv.zip\"\n",
    "fileName = \"sqf-2016-csv.zip\"\n",
    "urllib.request.urlretrieve(url, fileName);\n",
    "\n",
    "path = os.getcwd()\n",
    "oldFile = path + \"/\" + fileName\n",
    "newFile = path + \"/data/\" + \"fileName\"\n",
    "shutil.move(oldFile, newFile);\n",
    "\n",
    "zip_ref = zipfile.ZipFile(newFile, 'r')\n",
    "zip_ref.extractall(path + \"/data\")\n",
    "zip_ref.close()"
   ]
  },
  {
   "cell_type": "markdown",
   "metadata": {
    "heading_collapsed": true,
    "hidden": true
   },
   "source": [
    "## Read Data with Pandas"
   ]
  },
  {
   "cell_type": "code",
   "execution_count": 677,
   "metadata": {
    "hidden": true
   },
   "outputs": [],
   "source": [
    "stopFriskData = pd.read_csv('data/sqf-2016.csv', low_memory = False)"
   ]
  },
  {
   "cell_type": "markdown",
   "metadata": {
    "heading_collapsed": true,
    "hidden": true
   },
   "source": [
    "## Clean Data"
   ]
  },
  {
   "cell_type": "markdown",
   "metadata": {
    "heading_collapsed": true,
    "hidden": true
   },
   "source": [
    "### Drop Unneeded Columns"
   ]
  },
  {
   "cell_type": "code",
   "execution_count": 678,
   "metadata": {
    "hidden": true
   },
   "outputs": [],
   "source": [
    "keepColumns = ['frisked', 'race', 'age', 'weight', 'ht_feet', 'ht_inch', 'sex', 'build']"
   ]
  },
  {
   "cell_type": "code",
   "execution_count": 679,
   "metadata": {
    "hidden": true
   },
   "outputs": [],
   "source": [
    "allData = pd.DataFrame(stopFriskData, columns=keepColumns)"
   ]
  },
  {
   "cell_type": "code",
   "execution_count": 680,
   "metadata": {
    "hidden": true
   },
   "outputs": [],
   "source": [
    "columnNames = ['frisked', 'race', 'age', 'weight', 'heightFeet',\n",
    "             'heightInches', 'sex', 'build']\n",
    "allData.columns = columnNames"
   ]
  },
  {
   "cell_type": "markdown",
   "metadata": {
    "heading_collapsed": true,
    "hidden": true
   },
   "source": [
    "### Drop NAs and Incorrect Inputs"
   ]
  },
  {
   "cell_type": "code",
   "execution_count": 681,
   "metadata": {
    "hidden": true
   },
   "outputs": [],
   "source": [
    "#There were some mistakes in data entry\n",
    "allData = allData.dropna(axis=0, how='all')\n",
    "allData = allData[:-1]\n",
    "allData = allData[allData['age'] != '**']\n",
    "allData = allData[allData['sex'] != 'Z']"
   ]
  },
  {
   "cell_type": "markdown",
   "metadata": {
    "heading_collapsed": true,
    "hidden": true
   },
   "source": [
    "### Relabel Categorical Variables"
   ]
  },
  {
   "cell_type": "code",
   "execution_count": 682,
   "metadata": {
    "hidden": true
   },
   "outputs": [],
   "source": [
    "raceLabels = ['A', 'B', 'I', 'P', 'Q', 'W', 'U', 'Z']\n",
    "raceFactors = ['ASIAN', 'BLACK', 'AMERICAN INDIAN', 'HISPANIC', 'HISPANIC', 'WHITE', 'OTHER', 'OTHER']\n",
    "allData['race'].replace(raceLabels, raceFactors, inplace=True)"
   ]
  },
  {
   "cell_type": "code",
   "execution_count": 683,
   "metadata": {
    "hidden": true
   },
   "outputs": [],
   "source": [
    "#We'll say that we have a scale of scrawny to bulky with an added value of one each rung up the scale\n",
    "buildLabels = ['H', 'M', 'T', 'U', 'Z']\n",
    "buildFactors = [3, 2, 1, 4, 0]\n",
    "allData['build'].replace(buildLabels, buildFactors, inplace=True)"
   ]
  },
  {
   "cell_type": "code",
   "execution_count": 684,
   "metadata": {
    "hidden": true
   },
   "outputs": [],
   "source": [
    "allData = allData.replace('M', 1)\n",
    "allData = allData.replace('F', 0)"
   ]
  },
  {
   "cell_type": "markdown",
   "metadata": {
    "heading_collapsed": true,
    "hidden": true
   },
   "source": [
    "### Create One Height Variable"
   ]
  },
  {
   "cell_type": "code",
   "execution_count": 685,
   "metadata": {
    "hidden": true
   },
   "outputs": [],
   "source": [
    "allData['height'] = (allData.heightFeet.astype(float) * 12) + allData.heightInches.astype(float)\n",
    "allData = allData.drop(['heightFeet', 'heightInches'], axis = 1)"
   ]
  },
  {
   "cell_type": "markdown",
   "metadata": {
    "heading_collapsed": true,
    "hidden": true
   },
   "source": [
    "### Check Data"
   ]
  },
  {
   "cell_type": "code",
   "execution_count": 686,
   "metadata": {
    "hidden": true
   },
   "outputs": [
    {
     "data": {
      "text/html": [
       "<div>\n",
       "<style scoped>\n",
       "    .dataframe tbody tr th:only-of-type {\n",
       "        vertical-align: middle;\n",
       "    }\n",
       "\n",
       "    .dataframe tbody tr th {\n",
       "        vertical-align: top;\n",
       "    }\n",
       "\n",
       "    .dataframe thead th {\n",
       "        text-align: right;\n",
       "    }\n",
       "</style>\n",
       "<table border=\"1\" class=\"dataframe\">\n",
       "  <thead>\n",
       "    <tr style=\"text-align: right;\">\n",
       "      <th></th>\n",
       "      <th>frisked</th>\n",
       "      <th>race</th>\n",
       "      <th>age</th>\n",
       "      <th>weight</th>\n",
       "      <th>sex</th>\n",
       "      <th>build</th>\n",
       "      <th>height</th>\n",
       "    </tr>\n",
       "  </thead>\n",
       "  <tbody>\n",
       "    <tr>\n",
       "      <th>0</th>\n",
       "      <td>Y</td>\n",
       "      <td>BLACK</td>\n",
       "      <td>48</td>\n",
       "      <td>180</td>\n",
       "      <td>1</td>\n",
       "      <td>1</td>\n",
       "      <td>74.0</td>\n",
       "    </tr>\n",
       "    <tr>\n",
       "      <th>1</th>\n",
       "      <td>N</td>\n",
       "      <td>WHITE</td>\n",
       "      <td>20</td>\n",
       "      <td>150</td>\n",
       "      <td>1</td>\n",
       "      <td>1</td>\n",
       "      <td>68.0</td>\n",
       "    </tr>\n",
       "    <tr>\n",
       "      <th>2</th>\n",
       "      <td>Y</td>\n",
       "      <td>HISPANIC</td>\n",
       "      <td>34</td>\n",
       "      <td>140</td>\n",
       "      <td>1</td>\n",
       "      <td>2</td>\n",
       "      <td>66.0</td>\n",
       "    </tr>\n",
       "    <tr>\n",
       "      <th>3</th>\n",
       "      <td>Y</td>\n",
       "      <td>BLACK</td>\n",
       "      <td>33</td>\n",
       "      <td>180</td>\n",
       "      <td>1</td>\n",
       "      <td>2</td>\n",
       "      <td>69.0</td>\n",
       "    </tr>\n",
       "    <tr>\n",
       "      <th>4</th>\n",
       "      <td>N</td>\n",
       "      <td>BLACK</td>\n",
       "      <td>22</td>\n",
       "      <td>160</td>\n",
       "      <td>1</td>\n",
       "      <td>1</td>\n",
       "      <td>71.0</td>\n",
       "    </tr>\n",
       "  </tbody>\n",
       "</table>\n",
       "</div>"
      ],
      "text/plain": [
       "  frisked      race age weight  sex  build  height\n",
       "0       Y     BLACK  48    180    1      1    74.0\n",
       "1       N     WHITE  20    150    1      1    68.0\n",
       "2       Y  HISPANIC  34    140    1      2    66.0\n",
       "3       Y     BLACK  33    180    1      2    69.0\n",
       "4       N     BLACK  22    160    1      1    71.0"
      ]
     },
     "execution_count": 686,
     "metadata": {},
     "output_type": "execute_result"
    }
   ],
   "source": [
    "allData.head()"
   ]
  },
  {
   "cell_type": "markdown",
   "metadata": {
    "heading_collapsed": true,
    "hidden": true
   },
   "source": [
    "### Create Dataframe For Those Frisked"
   ]
  },
  {
   "cell_type": "code",
   "execution_count": 687,
   "metadata": {
    "hidden": true
   },
   "outputs": [],
   "source": [
    "friskedData = allData[allData.frisked == 'Y']"
   ]
  },
  {
   "cell_type": "markdown",
   "metadata": {
    "heading_collapsed": true,
    "hidden": true
   },
   "source": [
    "## Summarize Data"
   ]
  },
  {
   "cell_type": "code",
   "execution_count": 689,
   "metadata": {
    "hidden": true
   },
   "outputs": [
    {
     "name": "stdout",
     "output_type": "stream",
     "text": [
      "7885\n"
     ]
    }
   ],
   "source": [
    "numberObservations = friskedData.count()[0]\n",
    "print(numberObservations)"
   ]
  },
  {
   "cell_type": "code",
   "execution_count": 690,
   "metadata": {
    "hidden": true
   },
   "outputs": [],
   "source": [
    "race = friskedData.groupby(['race']).size()"
   ]
  },
  {
   "cell_type": "code",
   "execution_count": 691,
   "metadata": {
    "hidden": true
   },
   "outputs": [
    {
     "data": {
      "text/plain": [
       "race\n",
       "AMERICAN INDIAN     0.266328\n",
       "ASIAN               5.504122\n",
       "BLACK              54.787571\n",
       "HISPANIC           29.727330\n",
       "OTHER               1.407736\n",
       "WHITE               8.306912\n",
       "dtype: float64"
      ]
     },
     "execution_count": 691,
     "metadata": {},
     "output_type": "execute_result"
    }
   ],
   "source": [
    "race / numberObservations * 100"
   ]
  },
  {
   "cell_type": "code",
   "execution_count": 693,
   "metadata": {
    "hidden": true
   },
   "outputs": [],
   "source": [
    "raceData = list(friskedData.race.value_counts() / numberObservations * 100)\n",
    "races = ['BLACK', 'HISPANIC', 'WHITE', 'ASIAN', 'OTHER', 'AMERICAN INDIAN']\n",
    "raceFrequency = dict(zip(raceData, races))"
   ]
  },
  {
   "cell_type": "markdown",
   "metadata": {
    "heading_collapsed": true
   },
   "source": [
    "# Visualize Data"
   ]
  },
  {
   "cell_type": "markdown",
   "metadata": {
    "heading_collapsed": true,
    "hidden": true
   },
   "source": [
    "## Normalized Histogram"
   ]
  },
  {
   "cell_type": "code",
   "execution_count": 695,
   "metadata": {
    "hidden": true
   },
   "outputs": [
    {
     "data": {
      "image/png": "[encoded data removed]",
      "text/plain": [
       "<matplotlib.figure.Figure at 0x7faedd753908>"
      ]
     },
     "metadata": {},
     "output_type": "display_data"
    }
   ],
   "source": [
    "plt.figure(figsize=(15, 5))\n",
    "plt.bar(raceFrequency.values(), raceFrequency.keys());\n",
    "plt.ylim(0, 60);\n",
    "plt.title('Stop and Frisk Frequency By Race');\n",
    "plt.xlabel('Race');\n",
    "plt.ylabel('Frequency by Percentage');"
   ]
  },
  {
   "cell_type": "markdown",
   "metadata": {
    "heading_collapsed": true,
    "hidden": true
   },
   "source": [
    "## Histogram"
   ]
  },
  {
   "cell_type": "code",
   "execution_count": 696,
   "metadata": {
    "hidden": true
   },
   "outputs": [
    {
     "data": {
      "image/png": "[encoded data removed]",
      "text/plain": [
       "<matplotlib.figure.Figure at 0x7faee236ab70>"
      ]
     },
     "metadata": {},
     "output_type": "display_data"
    }
   ],
   "source": [
    "plt.figure(figsize = (15, 5))\n",
    "friskedData.groupby('race').size().plot(kind='bar');\n",
    "plt.title('Stop and Frisk Frequency By Race');\n",
    "plt.xlabel('Race');\n",
    "plt.ylabel('Frequency by Nominal Number');\n",
    "plt.ylim(0, 4500);"
   ]
  },
  {
   "cell_type": "markdown",
   "metadata": {
    "heading_collapsed": true,
    "hidden": true
   },
   "source": [
    "## Pie Plot"
   ]
  },
  {
   "cell_type": "code",
   "execution_count": 697,
   "metadata": {
    "hidden": true
   },
   "outputs": [
    {
     "data": {
      "image/png": "[encoded data removed]",
      "text/plain": [
       "<matplotlib.figure.Figure at 0x7faedd7ac780>"
      ]
     },
     "metadata": {},
     "output_type": "display_data"
    }
   ],
   "source": [
    "# Data to plot\n",
    "labels = 'Black', 'Hispanic', 'White', 'Asian', 'Other', 'American Indian'\n",
    "colors = ['gold', 'yellowgreen', 'lightcoral', 'lightskyblue', 'green', 'red', 'purple', 'gray']\n",
    " \n",
    "# Plot\n",
    "plt.figure(figsize=(15, 10))\n",
    "plt.pie(raceData, labels=labels, colors=colors,\n",
    "        autopct='%1.1f%%', shadow=True, startangle=140)\n",
    " \n",
    "plt.axis('equal')\n",
    "plt.title('Stop & Frisk Incidences by Race')\n",
    "plt.show()"
   ]
  },
  {
   "cell_type": "markdown",
   "metadata": {
    "heading_collapsed": true
   },
   "source": [
    "# Fix Dummy Variables"
   ]
  },
  {
   "cell_type": "markdown",
   "metadata": {
    "hidden": true
   },
   "source": [
    "Pandas allows replacement without having to go through a loop. "
   ]
  },
  {
   "cell_type": "code",
   "execution_count": 698,
   "metadata": {
    "hidden": true
   },
   "outputs": [
    {
     "data": {
      "text/html": [
       "<div>\n",
       "<style scoped>\n",
       "    .dataframe tbody tr th:only-of-type {\n",
       "        vertical-align: middle;\n",
       "    }\n",
       "\n",
       "    .dataframe tbody tr th {\n",
       "        vertical-align: top;\n",
       "    }\n",
       "\n",
       "    .dataframe thead th {\n",
       "        text-align: right;\n",
       "    }\n",
       "</style>\n",
       "<table border=\"1\" class=\"dataframe\">\n",
       "  <thead>\n",
       "    <tr style=\"text-align: right;\">\n",
       "      <th></th>\n",
       "      <th>frisked</th>\n",
       "      <th>race</th>\n",
       "      <th>age</th>\n",
       "      <th>weight</th>\n",
       "      <th>sex</th>\n",
       "      <th>build</th>\n",
       "      <th>height</th>\n",
       "    </tr>\n",
       "  </thead>\n",
       "  <tbody>\n",
       "    <tr>\n",
       "      <th>0</th>\n",
       "      <td>1</td>\n",
       "      <td>BLACK</td>\n",
       "      <td>48</td>\n",
       "      <td>180</td>\n",
       "      <td>1</td>\n",
       "      <td>1</td>\n",
       "      <td>74.0</td>\n",
       "    </tr>\n",
       "    <tr>\n",
       "      <th>1</th>\n",
       "      <td>0</td>\n",
       "      <td>WHITE</td>\n",
       "      <td>20</td>\n",
       "      <td>150</td>\n",
       "      <td>1</td>\n",
       "      <td>1</td>\n",
       "      <td>68.0</td>\n",
       "    </tr>\n",
       "    <tr>\n",
       "      <th>2</th>\n",
       "      <td>1</td>\n",
       "      <td>HISPANIC</td>\n",
       "      <td>34</td>\n",
       "      <td>140</td>\n",
       "      <td>1</td>\n",
       "      <td>2</td>\n",
       "      <td>66.0</td>\n",
       "    </tr>\n",
       "    <tr>\n",
       "      <th>3</th>\n",
       "      <td>1</td>\n",
       "      <td>BLACK</td>\n",
       "      <td>33</td>\n",
       "      <td>180</td>\n",
       "      <td>1</td>\n",
       "      <td>2</td>\n",
       "      <td>69.0</td>\n",
       "    </tr>\n",
       "    <tr>\n",
       "      <th>4</th>\n",
       "      <td>0</td>\n",
       "      <td>BLACK</td>\n",
       "      <td>22</td>\n",
       "      <td>160</td>\n",
       "      <td>1</td>\n",
       "      <td>1</td>\n",
       "      <td>71.0</td>\n",
       "    </tr>\n",
       "  </tbody>\n",
       "</table>\n",
       "</div>"
      ],
      "text/plain": [
       "   frisked      race age weight  sex  build  height\n",
       "0        1     BLACK  48    180    1      1    74.0\n",
       "1        0     WHITE  20    150    1      1    68.0\n",
       "2        1  HISPANIC  34    140    1      2    66.0\n",
       "3        1     BLACK  33    180    1      2    69.0\n",
       "4        0     BLACK  22    160    1      1    71.0"
      ]
     },
     "execution_count": 698,
     "metadata": {},
     "output_type": "execute_result"
    }
   ],
   "source": [
    "allData = allData.replace('Y', 1)\n",
    "allData = allData.replace('N', 0)\n",
    "allData.head()"
   ]
  },
  {
   "cell_type": "markdown",
   "metadata": {},
   "source": [
    "# Logit Regression"
   ]
  },
  {
   "cell_type": "code",
   "execution_count": 704,
   "metadata": {},
   "outputs": [],
   "source": [
    "X = allData.copy()\n",
    "y = X.frisked.copy()\n",
    "X.drop(['frisked', 'race'], axis=1, inplace=True)\n",
    "X['intercept'] = 1.0  "
   ]
  },
  {
   "cell_type": "code",
   "execution_count": 705,
   "metadata": {},
   "outputs": [
    {
     "name": "stdout",
     "output_type": "stream",
     "text": [
      "Optimization terminated successfully.\n",
      "         Current function value: 0.639464\n",
      "         Iterations 5\n"
     ]
    }
   ],
   "source": [
    "logitModel = sm.Logit(y.astype(float), X.astype(float))\n",
    "result = logitModel.fit()"
   ]
  },
  {
   "cell_type": "code",
   "execution_count": 706,
   "metadata": {},
   "outputs": [
    {
     "name": "stdout",
     "output_type": "stream",
     "text": [
      "                           Logit Regression Results                           \n",
      "==============================================================================\n",
      "Dep. Variable:                frisked   No. Observations:                12312\n",
      "Model:                          Logit   Df Residuals:                    12306\n",
      "Method:                           MLE   Df Model:                            5\n",
      "Date:                Tue, 27 Feb 2018   Pseudo R-squ.:                 0.02098\n",
      "Time:                        17:30:14   Log-Likelihood:                -7873.1\n",
      "converged:                       True   LL-Null:                       -8041.8\n",
      "                                        LLR p-value:                 8.712e-71\n",
      "==============================================================================\n",
      "                 coef    std err          z      P>|z|      [0.025      0.975]\n",
      "------------------------------------------------------------------------------\n",
      "age           -0.0152      0.002     -9.227      0.000      -0.018      -0.012\n",
      "weight         0.0009      0.001      1.492      0.136      -0.000       0.002\n",
      "sex            0.9159      0.075     12.193      0.000       0.769       1.063\n",
      "build          0.0662      0.030      2.228      0.026       0.008       0.125\n",
      "height         0.0304      0.006      4.914      0.000       0.018       0.043\n",
      "intercept     -2.1849      0.389     -5.613      0.000      -2.948      -1.422\n",
      "==============================================================================\n"
     ]
    }
   ],
   "source": [
    "print(result.summary())"
   ]
  },
  {
   "cell_type": "markdown",
   "metadata": {},
   "source": [
    "What this is saying is that by being male, you automatically increase your likelihood of being stopped and frisked by 1.91 times. For every inch you gain, your likelihood increases by 1.03 times. For each increasing body type build, you are 1.06 times more likely to be stopped. However, for every year you age, you are 1.01 times less likely to be stopped. "
   ]
  }
 ],
 "metadata": {
  "kernelspec": {
   "display_name": "Python 3",
   "language": "python",
   "name": "python3"
  },
  "language_info": {
   "codemirror_mode": {
    "name": "ipython",
    "version": 3
   },
   "file_extension": ".py",
   "mimetype": "text/x-python",
   "name": "python",
   "nbconvert_exporter": "python",
   "pygments_lexer": "ipython3",
   "version": "3.5.2"
  },
  "toc": {
   "nav_menu": {},
   "number_sections": true,
   "sideBar": true,
   "skip_h1_title": false,
   "title_cell": "Table of Contents",
   "title_sidebar": "Contents",
   "toc_cell": false,
   "toc_position": {},
   "toc_section_display": true,
   "toc_window_display": false
  }
 },
 "nbformat": 4,
 "nbformat_minor": 2
}
